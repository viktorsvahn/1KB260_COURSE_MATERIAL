{
 "cells": [
  {
   "cell_type": "code",
   "execution_count": 5,
   "metadata": {},
   "outputs": [
    {
     "name": "stdout",
     "output_type": "stream",
     "text": [
      "Requirement already satisfied: numpy>=1.19.1 in c:\\users\\eribo573\\anaconda3\\lib\\site-packages (from -r requirements.txt (line 1)) (1.21.5)\n",
      "Requirement already satisfied: pandas>=1.1.1 in c:\\users\\eribo573\\anaconda3\\lib\\site-packages (from -r requirements.txt (line 2)) (1.4.2)\n",
      "Requirement already satisfied: matplotlib>=3.3.1 in c:\\users\\eribo573\\anaconda3\\lib\\site-packages (from -r requirements.txt (line 3)) (3.5.1)\n",
      "Requirement already satisfied: seaborn>=0.10.1 in c:\\users\\eribo573\\anaconda3\\lib\\site-packages (from -r requirements.txt (line 4)) (0.11.2)\n",
      "Requirement already satisfied: ase==3.20.1 in c:\\users\\eribo573\\appdata\\roaming\\python\\python39\\site-packages (from -r requirements.txt (line 5)) (3.20.1)\n",
      "Requirement already satisfied: scipy>=0.18.1 in c:\\users\\eribo573\\anaconda3\\lib\\site-packages (from ase==3.20.1->-r requirements.txt (line 5)) (1.7.3)\n",
      "Requirement already satisfied: pytz>=2020.1 in c:\\users\\eribo573\\anaconda3\\lib\\site-packages (from pandas>=1.1.1->-r requirements.txt (line 2)) (2021.3)\n",
      "Requirement already satisfied: python-dateutil>=2.8.1 in c:\\users\\eribo573\\anaconda3\\lib\\site-packages (from pandas>=1.1.1->-r requirements.txt (line 2)) (2.8.2)\n",
      "Requirement already satisfied: packaging>=20.0 in c:\\users\\eribo573\\anaconda3\\lib\\site-packages (from matplotlib>=3.3.1->-r requirements.txt (line 3)) (21.3)\n",
      "Requirement already satisfied: fonttools>=4.22.0 in c:\\users\\eribo573\\anaconda3\\lib\\site-packages (from matplotlib>=3.3.1->-r requirements.txt (line 3)) (4.25.0)\n",
      "Requirement already satisfied: cycler>=0.10 in c:\\users\\eribo573\\anaconda3\\lib\\site-packages (from matplotlib>=3.3.1->-r requirements.txt (line 3)) (0.11.0)\n",
      "Requirement already satisfied: pyparsing>=2.2.1 in c:\\users\\eribo573\\anaconda3\\lib\\site-packages (from matplotlib>=3.3.1->-r requirements.txt (line 3)) (3.0.4)\n",
      "Requirement already satisfied: kiwisolver>=1.0.1 in c:\\users\\eribo573\\anaconda3\\lib\\site-packages (from matplotlib>=3.3.1->-r requirements.txt (line 3)) (1.3.2)\n",
      "Requirement already satisfied: pillow>=6.2.0 in c:\\users\\eribo573\\anaconda3\\lib\\site-packages (from matplotlib>=3.3.1->-r requirements.txt (line 3)) (9.0.1)\n",
      "Requirement already satisfied: six>=1.5 in c:\\users\\eribo573\\anaconda3\\lib\\site-packages (from python-dateutil>=2.8.1->pandas>=1.1.1->-r requirements.txt (line 2)) (1.16.0)\n"
     ]
    }
   ],
   "source": [
    "# We run this cell to make sure that we have the correct packages installed\n",
    "!wget https://raw.githubusercontent.com/Teoroo-CMC/1KB260_COURSE_MATERIAL/main/LAB1/requirements.txt"
    "!wget https://raw.githubusercontent.com/Teoroo-CMC/1KB260_COURSE_MATERIAL/main/LAB1/monthly_sales.csv"
    "!wget https://raw.githubusercontent.com/Teoroo-CMC/1KB260_COURSE_MATERIAL/main/LAB1/marketing_raw_data.csv"
   ]
  },
  {
   "cell_type": "markdown",
   "metadata": {},
   "source": [
    "## Prelude\n",
    "\n",
    "Python is a programming language used not only by software developers. In many other fields, such as materials science, the programming language enjoys great popularity because calculations, data analysis and data visualization can be done quickly, reproducibly and with high-quality.\n",
    "\n",
    "This tutorial is not a complete introduction to the Python programming language. Rather, it is intended to give an overview over the tools that are useful in a scientific environment.\n",
    "\n",
    "There are a lot of resources in the internet to learn more about Python and the libraries mentioned in this document. You can refer to those during and after this lab."
   ]
  },
  {
   "cell_type": "markdown",
   "metadata": {},
   "source": [
    "## Jupyter Notebooks\n",
    "\n",
    "In bigger software projects the Python code is usually written in files with the suffix '.py'.\n",
    "In a scientific environment it is often more adequate to use jupyter notebooks instead (files with the suffix '.ipynb') since these support interactive data processing, analysis, and visualization in an easily shared format.\n",
    "\n",
    "The document that you are viewing right now is such a notebook. A notebook consists of blocks of (Python-)code and (Markdown-) text. Notebooks are executed in a so-called Kernel. Kernels are programming language specific processes that run independently and interact with the Notebook. You can see if a Kernel is currently running on the top-right corner of the screen.\n",
    "\n",
    "To run a cell of the notebook, select it (which gives it a green border) and either:\n",
    "- Press 'Run' at the top of the screen, or\n",
    "- Press 'Ctrl' and 'Enter'."
   ]
  },
  {
   "cell_type": "markdown",
   "metadata": {},
   "source": [
    "## Using NumPy, Pandas and Matplotlib"
   ]
  },
  {
   "cell_type": "markdown",
   "metadata": {},
   "source": [
    "Usually, the first few lines of Python code (or the first Jupyter Notebook cell) contain so-called import statements. These tell the Python interpreter which of the packages that we have installed on our computer we want to use in this notebook."
   ]
  },
  {
   "cell_type": "code",
   "execution_count": 2,
   "metadata": {},
   "outputs": [],
   "source": [
    "import numpy as np # Now Numpy can be accessed via np.<name of variable or function to use>\n",
    "import pandas as pd # Now Pandas can be accessed via pd.<name of variable or function to use>\n",
    "import matplotlib.pyplot as plt # Now the Pyplot module of Matplotlib can be accessed via plt.<name of variable or function to use>\n",
    "# ignore the following line, it only tells the matplotlib library to display the plots within this notebook directly\n",
    "%matplotlib inline  "
   ]
  },
  {
   "cell_type": "markdown",
   "metadata": {},
   "source": [
    "So, here we import these tools and assign them abbreviated names ('import X as Y'). We do not have to use abbreviations of package names, and we can use other names if we prefer, but we choose to respect the Python tradition in these exercises."
   ]
  },
  {
   "cell_type": "markdown",
   "metadata": {},
   "source": [
    "### Disclaimer: \n",
    "\n",
    "Most of the Basic Python and NumPy code from this notebook has been taken from:\n",
    "\n",
    "https://medium.com/@manmeet20singh11/introduction-to-python-jupyter-notebook-numpy-and-pandas-a57dc1086a8f\n",
    "\n",
    "The examples given in the tutorial on that link are rather extensive and can serve as a good starting point diving into the Python and NumPy philosophies.\n",
    "\n",
    "Some of the exercises are taken from:\n",
    "\n",
    "https://raw.githubusercontent.com/weisscharlesj/SciCompforChemists/master/Book%5FPDF/SciCompforChemists%5F1.0.6a.pdf\n",
    "\n",
    "A good and more complete introduction into the programming language can be found here: \n",
    "\n",
    "https://docs.python.org/3/tutorial/\n",
    "\n",
    "You don't have to read everything here. This website is more a place to look things up."
   ]
  },
  {
   "cell_type": "markdown",
   "metadata": {},
   "source": [
    "## 1. Basic Python\n",
    "\n",
    "Python source code consists of the actual code and comments. \n",
    "The code is read and executed by the Python Interpreter line by line. This allows you to instruct the computer what you want it to do.\n",
    "Comments serve as a way of documenting the code, i.e. making it more readable to someone who has not taken part in writting the code. \n",
    "Basically, everything after a hash sign (#) and it not read by the interpreter."
   ]
  },
  {
   "cell_type": "markdown",
   "metadata": {},
   "source": [
    "### Python data types\n",
    "\n",
    "Python offers four primitive datatypes (Strings, Booleans, Integers and Floats) and a series of in-built non-primitive datatypes, like e.g. Tuples, Lists, Dictionaries and Sets, which allow you to bundle data together.\n",
    "\n",
    "Integers (\"whole numbers\") and floats are two different ways to represent numbers on a computer.\n",
    "Booleans are a data type best thought of as having either the value 1 or 0, or \"True\" or \"False\". They are very much used when working with algorithms and logic.\n",
    "\n",
    "Strings are used to represent text.\n",
    "\n",
    "Read through and execute the following cells and study the different outputs and the code that produces them."
   ]
  },
  {
   "cell_type": "markdown",
   "metadata": {},
   "source": [
    "#### Primitive datatypes"
   ]
  },
  {
   "cell_type": "code",
   "execution_count": 2,
   "metadata": {},
   "outputs": [
    {
     "name": "stdout",
     "output_type": "stream",
     "text": [
      "4\n",
      "<class 'int'>\n",
      "5\n",
      "3\n",
      "8\n",
      "16\n",
      "5\n",
      "10\n",
      "<class 'float'>\n",
      "1.5 2.5 3.0 2.25\n"
     ]
    },
    {
     "data": {
      "text/plain": [
       "1.5"
      ]
     },
     "execution_count": 2,
     "metadata": {},
     "output_type": "execute_result"
    }
   ],
   "source": [
    "### Integers and floats\n",
    "\n",
    "x = 4          # Create an Integer and assign it to a variable with the name x\n",
    "print(x)       # Prints \"4\"\n",
    "print(type(x)) # Prints \"<class 'int'>\"\n",
    "print(x + 1)   # Addition; prints \"5\"\n",
    "print(x - 1)   # Subtraction; prints \"3\"\n",
    "print(x * 2)   # Multiplication; prints \"8\"\n",
    "print(x ** 2)  # Exponentiation; prints \"16\"\n",
    "x += 1         # Basically the same as x = x + 1\n",
    "print(x)       # Prints \"5\"\n",
    "x *= 2         # Basically the same as x = x * 1\n",
    "print(x)       # Prints \"10\"\n",
    "\n",
    "y = 1.5        # Create a Float and assign it to a variable with the name y\n",
    "print(type(y)) # Prints \"<class 'float'>\"\n",
    "print(y, y + 1, y * 2, y ** 2) # Prints \"1.5 2.5 3.0 2.25\"\n",
    "\n",
    "\n",
    "y              # If you only specify a variable name (regardless of the type) in the end of a cell, the value is printed (only works in Jupyter notebooks!)"
   ]
  },
  {
   "cell_type": "code",
   "execution_count": 3,
   "metadata": {},
   "outputs": [
    {
     "name": "stdout",
     "output_type": "stream",
     "text": [
      "<class 'bool'> <class 'bool'>\n"
     ]
    }
   ],
   "source": [
    "# Booleans\n",
    "\n",
    "t = True       # Create a Boolean and assign it to a variable with the name t\n",
    "f = False      # Create a Boolean and assign it to a variable with the name f\n",
    "print(type(t), type(f)) # Prints \"<class 'bool'>\""
   ]
  },
  {
   "cell_type": "code",
   "execution_count": 4,
   "metadata": {},
   "outputs": [
    {
     "name": "stdout",
     "output_type": "stream",
     "text": [
      "hello\n",
      "5\n",
      "hello world\n",
      "hello world 12\n"
     ]
    }
   ],
   "source": [
    "# Strings\n",
    "\n",
    "hello = 'hello'    # String literals can use single quotes\n",
    "world = \"world\"    # or double quotes; it does not matter.\n",
    "print(hello)       # Prints \"hello\"\n",
    "print(len(hello))  # String length; prints \"5\"\n",
    "hw = hello + ' ' + world  # String concatenation\n",
    "print(hw)  # prints \"hello world\"\n",
    "hw12 = '%s %s %d' % (hello, world, 12)  # sprintf style string formatting\n",
    "print(hw12)  # prints \"hello world 12\""
   ]
  },
  {
   "cell_type": "markdown",
   "metadata": {},
   "source": [
    "#### Non-primitive datatypes"
   ]
  },
  {
   "cell_type": "code",
   "execution_count": 5,
   "metadata": {},
   "outputs": [
    {
     "name": "stdout",
     "output_type": "stream",
     "text": [
      "[3, 1, 2] 3\n",
      "2\n",
      "[3, 1, 'element3']\n",
      "[3, 1, 'element3', 'element4']\n",
      "element4 [3, 1, 'element3']\n"
     ]
    }
   ],
   "source": [
    "# Lists \n",
    "\n",
    "# List items are ordered, changeable, and allow duplicate values.\n",
    "\n",
    "A = [3, 1, 2]         # Create a list\n",
    "print(A, A[0])        # Prints \"[3, 1, 2] 3\" - counting starts with 0 in Python!\n",
    "print(A[-1])          # Negative indices count from the end of the list; prints \"2\"\n",
    "A[2] = 'element3'     # Lists can contain elements of different types\n",
    "print(A)              # Prints \"[3, 1, 'element3']\"\n",
    "\n",
    "A.append('element4')  # Use the append method of List and add a new element to the end of the list\n",
    "print(A)              # Prints \"[3, 1, 'element3', 'element4']\"\n",
    "b = A.pop()           # Use the append method of List and remove and return the last element of the list\n",
    "print(b, A)           # Prints \"element4 [3, 1, 'element3']\""
   ]
  },
  {
   "cell_type": "code",
   "execution_count": 7,
   "metadata": {},
   "outputs": [
    {
     "name": "stdout",
     "output_type": "stream",
     "text": [
      "[0, 1, 2, 3, 4]\n",
      "[2, 3]\n",
      "[2, 3, 4]\n",
      "[0, 1]\n",
      "[0, 1, 2, 3, 4]\n",
      "[0, 1, 2, 3]\n",
      "[0, 1, 8, 9, 4]\n"
     ]
    }
   ],
   "source": [
    "# List slicing\n",
    "\n",
    "# A slice is a subview of a part of the list\n",
    "nums = list(range(5))     # an alternative way to create a list\n",
    "print(nums)               # Prints \"[0, 1, 2, 3, 4]\"\n",
    "print(nums[2:4])          # Get a slice from index 2 to 4 (exclusive); prints \"[2, 3]\"\n",
    "print(nums[2:])           # Get a slice from index 2 to the end; prints \"[2, 3, 4]\"\n",
    "print(nums[:2])           # Get a slice from the start to index 2 (exclusive); prints \"[0, 1]\"\n",
    "print(nums[:])            # Get a slice of the whole list; prints \"[0, 1, 2, 3, 4]\"\n",
    "print(nums[:-1])          # Slice indices can be negative; prints \"[0, 1, 2, 3]\"\n",
    "nums[2:4] = [8, 9]        # Assign a new sublist to a slice\n",
    "print(nums)               # Prints \"[0, 1, 8, 9, 4]\""
   ]
  },
  {
   "cell_type": "code",
   "execution_count": 8,
   "metadata": {},
   "outputs": [
    {
     "name": "stdout",
     "output_type": "stream",
     "text": [
      "('apple', 'banana', 'cherry') apple\n",
      "cherry\n",
      "('apple', 'banana', 'cherry')\n"
     ]
    }
   ],
   "source": [
    "# Tuples\n",
    "\n",
    "# A tuple is a collection which is ordered and unchangeable.\n",
    "\n",
    "thistuple = (\"apple\", \"banana\", \"cherry\")\n",
    "\n",
    "print(thistuple, thistuple[0])        # Prints \"(\"apple\", \"banana\", \"cherry\") \"apple\"\" - counting starts with 0 in Python!\n",
    "print(thistuple[-1])                  # Negative indices count from the end of the list; prints \"cherry\"\n",
    "\n",
    "# thistuple[0] = \"pineapple\"          # This will not work since tuples are unchangable\n",
    "print(thistuple)"
   ]
  },
  {
   "cell_type": "code",
   "execution_count": 9,
   "metadata": {},
   "outputs": [
    {
     "name": "stdout",
     "output_type": "stream",
     "text": [
      "{'banana', 'cherry', 'apple'}\n",
      "{'cloudberry', 'banana', 'raspberry', 'apple', 'cherry', 'pineapple'}\n",
      "{'cloudberry', 'apple', 'raspberry', 'cherry', 'pineapple'}\n"
     ]
    }
   ],
   "source": [
    "# Sets\n",
    "\n",
    "# A set is a collection which is both unordered and unindexed.\n",
    "\n",
    "thisset = {\"apple\", \"banana\", \"cherry\"}\n",
    "print(thisset)        # This works with sets\n",
    "# print(thisset[1])   # This does not work with sets. They cannot be indexed.\n",
    "\n",
    "anotherset = {\"pineapple\", \"raspberry\", \"banana\", \"cloudberry\"}\n",
    "\n",
    "# Sets allow nice utilities\n",
    "# e.g. ...\n",
    "print(thisset.union(anotherset))                   # Returns a new set containing all items from both sets.\n",
    "print(thisset.symmetric_difference(anotherset))    # Returns a new set, that contains only the elements that are NOT present in both sets."
   ]
  },
  {
   "cell_type": "code",
   "execution_count": 10,
   "metadata": {},
   "outputs": [
    {
     "name": "stdout",
     "output_type": "stream",
     "text": [
      "cute\n",
      "True\n",
      "{'cat': 'cute', 'dog': 'furry'}\n",
      "{'cat': 'cute', 'dog': 'furry', 'fish': 'wet'}\n",
      "orange\n",
      "{'cat': 'cute', 'dog': 'furry'}\n"
     ]
    }
   ],
   "source": [
    "# Dictionaries\n",
    "\n",
    "d = {'cat': 'cute', 'dog': 'furry'}  # Create a new dictionary with some data\n",
    "print(d['cat'])       # Get an entry from a dictionary; prints \"cute\"\n",
    "print('cat' in d)     # Check if a dictionary has a given key; prints \"True\"\n",
    "\n",
    "print(d)              # Prints {'cat': 'cute', 'dog': 'furry'}\n",
    "d['fish'] = 'wet'     # Set an entry in a dictionary\n",
    "print(d)              # Prints {'cat': 'cute', 'dog': 'furry', 'fish': 'wet'}\n",
    "d['fish'] = 'orange'\n",
    "print(d['fish'])      # Prints \"orange\"\n",
    "del d['fish']         # Remove an element from a dictionary\n",
    "print(d)              # Prints {'cat': 'cute', 'dog': 'furry'}"
   ]
  },
  {
   "cell_type": "markdown",
   "metadata": {},
   "source": [
    "### Loops"
   ]
  },
  {
   "cell_type": "code",
   "execution_count": 11,
   "metadata": {},
   "outputs": [
    {
     "name": "stdout",
     "output_type": "stream",
     "text": [
      "0\n",
      "1\n",
      "2\n",
      "3\n",
      "4\n",
      "0\n",
      "1\n",
      "2\n",
      "3\n",
      "4\n",
      "0\n",
      "1\n",
      "2\n",
      "3\n",
      "4\n"
     ]
    }
   ],
   "source": [
    "# A loop allows to do operations iteratively\n",
    "\n",
    "# The most common loop is the for loop\n",
    "integerlist = [0, 1, 2, 3, 4]\n",
    "\n",
    "for element in integerlist:\n",
    "    # Do something smart...\n",
    "    print(element)\n",
    "    \n",
    "\n",
    "# the same result as...\n",
    "for element in range(5):    # Create a range object instead of a list\n",
    "    # Do something smart...\n",
    "    print(element)\n",
    "    \n",
    "# Another common loop is the while loop\n",
    "\n",
    "# the same result as...\n",
    "counter = 0                 # Create a counter\n",
    "while counter < 5:          # Execute until first time False\n",
    "    # Do something smart...\n",
    "    print(counter)\n",
    "    counter += 1"
   ]
  },
  {
   "cell_type": "markdown",
   "metadata": {},
   "source": [
    "### Python functions\n",
    "\n",
    "Sometimes we perform certain tasks many times, but without having to re-write the lines that perform that task. For this purpose we define functions.\n",
    "\n",
    "A function usually takes in zero or several arguments, performs some sort of task using these arguments and then returns some object or information. Inside the definition of a function, we write the code that would perform the task when the function is run. Then, every time we want to run the function, we just call it."
   ]
  },
  {
   "cell_type": "code",
   "execution_count": 12,
   "metadata": {},
   "outputs": [
    {
     "name": "stdout",
     "output_type": "stream",
     "text": [
      "negative\n",
      "zero\n",
      "positive\n"
     ]
    }
   ],
   "source": [
    "# Defining functions\n",
    "\n",
    "def sign(x):    # the function takes in one argument - here its name is x\n",
    "    \n",
    "    if x > 0:\n",
    "        return 'positive'\n",
    "    elif x < 0:\n",
    "        return 'negative'\n",
    "    else:\n",
    "        return 'zero'\n",
    "\n",
    "for x in [-1, 0, 1]:\n",
    "    print(sign(x))    # the function is called on numbers from the list which we loop through\n",
    "    \n",
    "# Prints \"negative\", \"zero\", \"positive\""
   ]
  },
  {
   "cell_type": "markdown",
   "metadata": {},
   "source": [
    "Puh... that was a lot to take in. Don't worry if you did't get everything until now. The lines above should only get you a feeling how Python works at it's core. Hold on a little more, now we can start to introduce Numpy which is one of the most well known Python libraries for handling numbers, vectors and matrices. "
   ]
  },
  {
   "cell_type": "markdown",
   "metadata": {},
   "source": [
    "## 2. NumPy"
   ]
  },
  {
   "cell_type": "code",
   "execution_count": 3,
   "metadata": {},
   "outputs": [
    {
     "name": "stdout",
     "output_type": "stream",
     "text": [
      "<class 'numpy.ndarray'>\n",
      "(3,)\n",
      "1 2 3\n",
      "[5 2 3]\n",
      "(2, 3)\n",
      "1 2 4\n"
     ]
    }
   ],
   "source": [
    "# The NumPy array\n",
    "\n",
    "a = np.array([1, 2, 3])   # Create a rank 1 array using Numpy \n",
    "print(type(a))            # Prints \"<class 'numpy.ndarray'>\"\n",
    "print(a.shape)            # Prints \"(3,)\"\n",
    "print(a[0], a[1], a[2])   # Prints \"1 2 3\"\n",
    "a[0] = 5                  # Change an element of the array\n",
    "print(a)                  # Prints \"[5, 2, 3]\"\n",
    "\n",
    "b = np.array([[1,2,3],[4,5,6]])    # Create a two-dimensional\n",
    "print(b.shape)                     # Prints the array's shape \"(2, 3)\" \n",
    "\n",
    "# Similarly, the elements of 2D arrays can be referred to through their column and row indices \n",
    "print(b[0, 0], b[0, 1], b[1, 0])   # Prints \"1 2 4\"\n",
    "                                   "
   ]
  },
  {
   "cell_type": "code",
   "execution_count": 16,
   "metadata": {},
   "outputs": [
    {
     "name": "stdout",
     "output_type": "stream",
     "text": [
      "[[0. 0.]\n",
      " [0. 0.]]\n",
      "[[1. 1.]]\n",
      "[[7 7]\n",
      " [7 7]]\n",
      "[[1. 0.]\n",
      " [0. 1.]]\n",
      "[[0.41092423 0.74178049]\n",
      " [0.25375598 0.63580227]]\n",
      "[1 2 3 4]\n"
     ]
    }
   ],
   "source": [
    "# Other ways of creating an array\n",
    "\n",
    "a = np.zeros((2,2))   # Create an array of all zeros\n",
    "print(a)              # Prints \"[[ 0.  0.]\n",
    "                      #          [ 0.  0.]]\"\n",
    "\n",
    "b = np.ones((1,2))    # Create an array of all ones\n",
    "print(b)              # Prints \"[[ 1.  1.]]\"\n",
    "\n",
    "c = np.full((2,2), 7)  # Create a constant array\n",
    "print(c)               # Prints \"[[ 7.  7.]\n",
    "                       #          [ 7.  7.]]\"\n",
    "\n",
    "d = np.eye(2)         # Create a 2x2 identity matrix\n",
    "print(d)              # Prints \"[[ 1.  0.]\n",
    "                      #          [ 0.  1.]]\"\n",
    "\n",
    "e = np.random.random((2,2))  # Create an array filled with random values\n",
    "print(e)                     # Might print \"[[0.91940167 0.08143941]\n",
    "                             # [ 0.68744134  0.87236687]]\"\n",
    "    \n",
    "# Creating an array from a list\n",
    "F = [1,2,3,4]\n",
    "f = np.array(F)\n",
    "print(f)             # Prints \"[1 2 3 4]\""
   ]
  },
  {
   "cell_type": "code",
   "execution_count": 17,
   "metadata": {},
   "outputs": [
    {
     "name": "stdout",
     "output_type": "stream",
     "text": [
      "[[ 6.  8.]\n",
      " [10. 12.]]\n",
      "[[ 6.  8.]\n",
      " [10. 12.]]\n",
      "[[-4. -4.]\n",
      " [-4. -4.]]\n",
      "[[-4. -4.]\n",
      " [-4. -4.]]\n",
      "[[ 5. 12.]\n",
      " [21. 32.]]\n",
      "[[ 5. 12.]\n",
      " [21. 32.]]\n",
      "[[0.2        0.33333333]\n",
      " [0.42857143 0.5       ]]\n",
      "[[0.2        0.33333333]\n",
      " [0.42857143 0.5       ]]\n",
      "[[1.         1.41421356]\n",
      " [1.73205081 2.        ]]\n",
      "[[1 2]\n",
      " [3 4]]\n",
      "10\n",
      "[4 6]\n",
      "[3 7]\n"
     ]
    }
   ],
   "source": [
    "# NumPy math\n",
    "\n",
    "x = np.array([[1,2],[3,4]], dtype=np.float64)\n",
    "y = np.array([[5,6],[7,8]], dtype=np.float64)\n",
    "\n",
    "# Elementwise sum; both produce the array\n",
    "# [[ 6.0  8.0]\n",
    "#  [10.0 12.0]]\n",
    "print(x + y)\n",
    "print(np.add(x, y))\n",
    "\n",
    "# Elementwise difference; both produce the array\n",
    "# [[-4.0 -4.0]\n",
    "#  [-4.0 -4.0]]\n",
    "print(x - y)\n",
    "print(np.subtract(x, y))\n",
    "\n",
    "# Elementwise product; both produce the array\n",
    "# [[ 5.0 12.0]\n",
    "#  [21.0 32.0]]\n",
    "print(x * y)\n",
    "print(np.multiply(x, y))\n",
    "\n",
    "# Elementwise division; both produce the array\n",
    "# [[ 0.2         0.33333333]\n",
    "#  [ 0.42857143  0.5       ]]\n",
    "print(x / y)\n",
    "print(np.divide(x, y))\n",
    "\n",
    "# Elementwise square root; produces the array\n",
    "# [[ 1.          1.41421356]\n",
    "#  [ 1.73205081  2.        ]]\n",
    "print(np.sqrt(x))\n",
    "\n",
    "# Performing a mathematical operation row- and column-wise\n",
    "x = np.array([[1,2],[3,4]])\n",
    "print(x)\n",
    "print(np.sum(x))  # Compute sum of all elements; prints \"10\"\n",
    "print(np.sum(x, axis=0))  # Compute sum of each column; prints \"[4 6]\"\n",
    "print(np.sum(x, axis=1))  # Compute sum of each row; prints \"[3 7]\""
   ]
  },
  {
   "cell_type": "markdown",
   "metadata": {},
   "source": [
    "When performing these array operations like summation, multiplication, etc. it is very important to make sure that the shapes of the arrays you are using for the operation are complementary. Most of the time you will get a warning but sometimes errors like this are tedious to debug.\n",
    "\n",
    "For convinience, numpy arrays also allow operations using \"*\", \"/\", \"+\" or \"-\" signs. **Uncomment the last line in the cell below to see what happens!**"
   ]
  },
  {
   "cell_type": "code",
   "execution_count": 20,
   "metadata": {},
   "outputs": [
    {
     "name": "stdout",
     "output_type": "stream",
     "text": [
      "[[0 1 2]\n",
      " [3 4 5]\n",
      " [6 7 8]]\n",
      "[[ 0.  1.  2.  3.]\n",
      " [ 4.  5.  6.  7.]\n",
      " [ 8.  9. 10. 11.]]\n"
     ]
    }
   ],
   "source": [
    "x = np.arange(9)\n",
    "x = np.reshape(x, (3,3))\n",
    "\n",
    "print(x)\n",
    "\n",
    "y = np.ones((12))*np.arange(12)\n",
    "y = np.reshape(y, (3,4))\n",
    "print(y)\n",
    "\n",
    "#z = x+y"
   ]
  },
  {
   "cell_type": "markdown",
   "metadata": {},
   "source": [
    "Great job! You are now familiar with some important NumPy functionality. Of course, you don't have to remember all function names. Just use your favourite internet browser to find the functions which suit you best."
   ]
  },
  {
   "cell_type": "markdown",
   "metadata": {},
   "source": [
    "## 3. Pandas"
   ]
  },
  {
   "cell_type": "markdown",
   "metadata": {},
   "source": [
    "Pandas is always helpful if you have data which can be arranged in a column like way (relational data). \n",
    "The main object Pandas is providing is the so-called DataFrame which saves data in rows and columns and provides some handy functions.\n",
    "Here we will only cover some very basic things you can do with Pandas. We will not use much of Pandas' functionality in our labs, except for the purpose of displaying data in a table and then plotting the columns.\n",
    "\n",
    "So in this notebook we will only go through:\n",
    "\n",
    "- writing data into a DataFrame\n",
    "\n",
    "- importing data from an external file\n",
    "\n",
    "- writing a DataFrame to an external file\n",
    "\n",
    "- very basic statistic description of the data\n",
    "\n",
    "- adding columns into a DataFrame\n",
    "\n",
    "Plotting data directly from a Pandas DataFrame will (extensively) be covered in the **seaborn\\_tutorial.ipynb** notebook."
   ]
  },
  {
   "cell_type": "code",
   "execution_count": 21,
   "metadata": {},
   "outputs": [
    {
     "data": {
      "text/html": [
       "<div>\n",
       "<style scoped>\n",
       "    .dataframe tbody tr th:only-of-type {\n",
       "        vertical-align: middle;\n",
       "    }\n",
       "\n",
       "    .dataframe tbody tr th {\n",
       "        vertical-align: top;\n",
       "    }\n",
       "\n",
       "    .dataframe thead th {\n",
       "        text-align: right;\n",
       "    }\n",
       "</style>\n",
       "<table border=\"1\" class=\"dataframe\">\n",
       "  <thead>\n",
       "    <tr style=\"text-align: right;\">\n",
       "      <th></th>\n",
       "      <th>apples</th>\n",
       "      <th>oranges</th>\n",
       "    </tr>\n",
       "  </thead>\n",
       "  <tbody>\n",
       "    <tr>\n",
       "      <td>0</td>\n",
       "      <td>3</td>\n",
       "      <td>0</td>\n",
       "    </tr>\n",
       "    <tr>\n",
       "      <td>1</td>\n",
       "      <td>2</td>\n",
       "      <td>3</td>\n",
       "    </tr>\n",
       "    <tr>\n",
       "      <td>2</td>\n",
       "      <td>0</td>\n",
       "      <td>7</td>\n",
       "    </tr>\n",
       "    <tr>\n",
       "      <td>3</td>\n",
       "      <td>1</td>\n",
       "      <td>2</td>\n",
       "    </tr>\n",
       "  </tbody>\n",
       "</table>\n",
       "</div>"
      ],
      "text/plain": [
       "   apples  oranges\n",
       "0       3        0\n",
       "1       2        3\n",
       "2       0        7\n",
       "3       1        2"
      ]
     },
     "execution_count": 21,
     "metadata": {},
     "output_type": "execute_result"
    }
   ],
   "source": [
    "# Ways of creating a pandas DataFrame\n",
    "\n",
    "# From a dictionary\n",
    "data = {\n",
    "    'apples': [3, 2, 0, 1],\n",
    "    'oranges': [0, 3, 7, 2]\n",
    "}\n",
    "\n",
    "purchases = pd.DataFrame(data)\n",
    "\n",
    "purchases # Reminder: If you only specify a variable name (regardless of the type) in the end of a cell, the value is printed (only works in Jupyter notebooks!)"
   ]
  },
  {
   "cell_type": "markdown",
   "metadata": {},
   "source": [
    "In the cell above, we have generated a DataFrame object called \"purchases\", using information contained in a dictionary called \"data\"."
   ]
  },
  {
   "cell_type": "code",
   "execution_count": 22,
   "metadata": {},
   "outputs": [
    {
     "data": {
      "text/html": [
       "<div>\n",
       "<style scoped>\n",
       "    .dataframe tbody tr th:only-of-type {\n",
       "        vertical-align: middle;\n",
       "    }\n",
       "\n",
       "    .dataframe tbody tr th {\n",
       "        vertical-align: top;\n",
       "    }\n",
       "\n",
       "    .dataframe thead th {\n",
       "        text-align: right;\n",
       "    }\n",
       "</style>\n",
       "<table border=\"1\" class=\"dataframe\">\n",
       "  <thead>\n",
       "    <tr style=\"text-align: right;\">\n",
       "      <th></th>\n",
       "      <th>apples</th>\n",
       "      <th>oranges</th>\n",
       "    </tr>\n",
       "  </thead>\n",
       "  <tbody>\n",
       "    <tr>\n",
       "      <td>0</td>\n",
       "      <td>3</td>\n",
       "      <td>0</td>\n",
       "    </tr>\n",
       "    <tr>\n",
       "      <td>1</td>\n",
       "      <td>2</td>\n",
       "      <td>3</td>\n",
       "    </tr>\n",
       "    <tr>\n",
       "      <td>2</td>\n",
       "      <td>0</td>\n",
       "      <td>7</td>\n",
       "    </tr>\n",
       "    <tr>\n",
       "      <td>3</td>\n",
       "      <td>1</td>\n",
       "      <td>2</td>\n",
       "    </tr>\n",
       "  </tbody>\n",
       "</table>\n",
       "</div>"
      ],
      "text/plain": [
       "   apples  oranges\n",
       "0       3        0\n",
       "1       2        3\n",
       "2       0        7\n",
       "3       1        2"
      ]
     },
     "execution_count": 22,
     "metadata": {},
     "output_type": "execute_result"
    }
   ],
   "source": [
    "# From numpy arrays\n",
    "\n",
    "column_names = [\"apples\", \"oranges\"]\n",
    "data = np.array([[3,0],[2,3],[0,7],[1,2]])\n",
    "\n",
    "purchases = pd.DataFrame(data = data, columns = [\"apples\", \"oranges\"])\n",
    "\n",
    "purchases "
   ]
  },
  {
   "cell_type": "code",
   "execution_count": 23,
   "metadata": {},
   "outputs": [
    {
     "data": {
      "text/html": [
       "<div>\n",
       "<style scoped>\n",
       "    .dataframe tbody tr th:only-of-type {\n",
       "        vertical-align: middle;\n",
       "    }\n",
       "\n",
       "    .dataframe tbody tr th {\n",
       "        vertical-align: top;\n",
       "    }\n",
       "\n",
       "    .dataframe thead th {\n",
       "        text-align: right;\n",
       "    }\n",
       "</style>\n",
       "<table border=\"1\" class=\"dataframe\">\n",
       "  <thead>\n",
       "    <tr style=\"text-align: right;\">\n",
       "      <th></th>\n",
       "      <th>2018 sales %</th>\n",
       "      <th>2019 sales %</th>\n",
       "      <th>2020 sales %</th>\n",
       "    </tr>\n",
       "    <tr>\n",
       "      <th>month</th>\n",
       "      <th></th>\n",
       "      <th></th>\n",
       "      <th></th>\n",
       "    </tr>\n",
       "  </thead>\n",
       "  <tbody>\n",
       "    <tr>\n",
       "      <td>Jan</td>\n",
       "      <td>92.82</td>\n",
       "      <td>91.65</td>\n",
       "      <td>100.18</td>\n",
       "    </tr>\n",
       "    <tr>\n",
       "      <td>Feb</td>\n",
       "      <td>99.80</td>\n",
       "      <td>89.33</td>\n",
       "      <td>89.33</td>\n",
       "    </tr>\n",
       "    <tr>\n",
       "      <td>Mar</td>\n",
       "      <td>102.51</td>\n",
       "      <td>90.49</td>\n",
       "      <td>98.63</td>\n",
       "    </tr>\n",
       "    <tr>\n",
       "      <td>Apr</td>\n",
       "      <td>90.49</td>\n",
       "      <td>102.12</td>\n",
       "      <td>100.96</td>\n",
       "    </tr>\n",
       "    <tr>\n",
       "      <td>May</td>\n",
       "      <td>102.12</td>\n",
       "      <td>88.94</td>\n",
       "      <td>104.45</td>\n",
       "    </tr>\n",
       "    <tr>\n",
       "      <td>Jun</td>\n",
       "      <td>105.61</td>\n",
       "      <td>94.37</td>\n",
       "      <td>99.02</td>\n",
       "    </tr>\n",
       "    <tr>\n",
       "      <td>Jul</td>\n",
       "      <td>100.96</td>\n",
       "      <td>99.80</td>\n",
       "      <td>102.12</td>\n",
       "    </tr>\n",
       "    <tr>\n",
       "      <td>Aug</td>\n",
       "      <td>101.35</td>\n",
       "      <td>87.78</td>\n",
       "      <td>95.92</td>\n",
       "    </tr>\n",
       "    <tr>\n",
       "      <td>Sep</td>\n",
       "      <td>97.86</td>\n",
       "      <td>93.98</td>\n",
       "      <td>103.67</td>\n",
       "    </tr>\n",
       "    <tr>\n",
       "      <td>Oct</td>\n",
       "      <td>90.88</td>\n",
       "      <td>106.00</td>\n",
       "      <td>96.31</td>\n",
       "    </tr>\n",
       "    <tr>\n",
       "      <td>Nov</td>\n",
       "      <td>95.92</td>\n",
       "      <td>100.57</td>\n",
       "      <td>103.29</td>\n",
       "    </tr>\n",
       "    <tr>\n",
       "      <td>Dec</td>\n",
       "      <td>100.57</td>\n",
       "      <td>88.55</td>\n",
       "      <td>94.37</td>\n",
       "    </tr>\n",
       "  </tbody>\n",
       "</table>\n",
       "</div>"
      ],
      "text/plain": [
       "        2018 sales %   2019 sales %   2020 sales %\n",
       "month                                             \n",
       "Jan            92.82          91.65         100.18\n",
       "Feb            99.80          89.33          89.33\n",
       "Mar           102.51          90.49          98.63\n",
       "Apr            90.49         102.12         100.96\n",
       "May           102.12          88.94         104.45\n",
       "Jun           105.61          94.37          99.02\n",
       "Jul           100.96          99.80         102.12\n",
       "Aug           101.35          87.78          95.92\n",
       "Sep            97.86          93.98         103.67\n",
       "Oct            90.88         106.00          96.31\n",
       "Nov            95.92         100.57         103.29\n",
       "Dec           100.57          88.55          94.37"
      ]
     },
     "execution_count": 23,
     "metadata": {},
     "output_type": "execute_result"
    }
   ],
   "source": [
    "# From a file\n",
    "\n",
    "sales = pd.read_csv('monthly_sales.csv', index_col = 0)\n",
    "\n",
    "sales "
   ]
  },
  {
   "cell_type": "code",
   "execution_count": 24,
   "metadata": {},
   "outputs": [
    {
     "data": {
      "text/html": [
       "<div>\n",
       "<style scoped>\n",
       "    .dataframe tbody tr th:only-of-type {\n",
       "        vertical-align: middle;\n",
       "    }\n",
       "\n",
       "    .dataframe tbody tr th {\n",
       "        vertical-align: top;\n",
       "    }\n",
       "\n",
       "    .dataframe thead th {\n",
       "        text-align: right;\n",
       "    }\n",
       "</style>\n",
       "<table border=\"1\" class=\"dataframe\">\n",
       "  <thead>\n",
       "    <tr style=\"text-align: right;\">\n",
       "      <th></th>\n",
       "      <th>2018 sales %</th>\n",
       "      <th>2019 sales %</th>\n",
       "      <th>2020 sales %</th>\n",
       "    </tr>\n",
       "  </thead>\n",
       "  <tbody>\n",
       "    <tr>\n",
       "      <td>count</td>\n",
       "      <td>12.000000</td>\n",
       "      <td>12.000000</td>\n",
       "      <td>12.000000</td>\n",
       "    </tr>\n",
       "    <tr>\n",
       "      <td>mean</td>\n",
       "      <td>98.407500</td>\n",
       "      <td>94.465000</td>\n",
       "      <td>99.020833</td>\n",
       "    </tr>\n",
       "    <tr>\n",
       "      <td>std</td>\n",
       "      <td>4.874198</td>\n",
       "      <td>6.163882</td>\n",
       "      <td>4.438307</td>\n",
       "    </tr>\n",
       "    <tr>\n",
       "      <td>min</td>\n",
       "      <td>90.490000</td>\n",
       "      <td>87.780000</td>\n",
       "      <td>89.330000</td>\n",
       "    </tr>\n",
       "    <tr>\n",
       "      <td>25%</td>\n",
       "      <td>95.145000</td>\n",
       "      <td>89.232500</td>\n",
       "      <td>96.212500</td>\n",
       "    </tr>\n",
       "    <tr>\n",
       "      <td>50%</td>\n",
       "      <td>100.185000</td>\n",
       "      <td>92.815000</td>\n",
       "      <td>99.600000</td>\n",
       "    </tr>\n",
       "    <tr>\n",
       "      <td>75%</td>\n",
       "      <td>101.542500</td>\n",
       "      <td>99.992500</td>\n",
       "      <td>102.412500</td>\n",
       "    </tr>\n",
       "    <tr>\n",
       "      <td>max</td>\n",
       "      <td>105.610000</td>\n",
       "      <td>106.000000</td>\n",
       "      <td>104.450000</td>\n",
       "    </tr>\n",
       "  </tbody>\n",
       "</table>\n",
       "</div>"
      ],
      "text/plain": [
       "        2018 sales %   2019 sales %   2020 sales %\n",
       "count      12.000000      12.000000      12.000000\n",
       "mean       98.407500      94.465000      99.020833\n",
       "std         4.874198       6.163882       4.438307\n",
       "min        90.490000      87.780000      89.330000\n",
       "25%        95.145000      89.232500      96.212500\n",
       "50%       100.185000      92.815000      99.600000\n",
       "75%       101.542500      99.992500     102.412500\n",
       "max       105.610000     106.000000     104.450000"
      ]
     },
     "execution_count": 24,
     "metadata": {},
     "output_type": "execute_result"
    }
   ],
   "source": [
    "# Some statistics information about the data from a DataFrame, per column\n",
    "# mean value\n",
    "# standard deviation\n",
    "# minimum value\n",
    "# maximum value\n",
    "# the 25%, 50% (median) and 75% percentiles\n",
    "\n",
    "sales.describe()"
   ]
  },
  {
   "cell_type": "code",
   "execution_count": 25,
   "metadata": {},
   "outputs": [
    {
     "data": {
      "text/plain": [
       " 2018 sales %    105.61\n",
       " 2019 sales %     94.37\n",
       " 2020 sales %     99.02\n",
       "Name: Jun, dtype: float64"
      ]
     },
     "execution_count": 25,
     "metadata": {},
     "output_type": "execute_result"
    }
   ],
   "source": [
    "# Selecting a row\n",
    "sales.loc[\"Jun\"]"
   ]
  },
  {
   "cell_type": "code",
   "execution_count": 26,
   "metadata": {},
   "outputs": [
    {
     "name": "stdout",
     "output_type": "stream",
     "text": [
      "99.8\n"
     ]
    }
   ],
   "source": [
    "# Row-wise stats\n",
    "\n",
    "september_mean = min(sales.loc[\"Jul\"])\n",
    "print(september_mean)"
   ]
  },
  {
   "cell_type": "code",
   "execution_count": 27,
   "metadata": {},
   "outputs": [
    {
     "data": {
      "text/html": [
       "<div>\n",
       "<style scoped>\n",
       "    .dataframe tbody tr th:only-of-type {\n",
       "        vertical-align: middle;\n",
       "    }\n",
       "\n",
       "    .dataframe tbody tr th {\n",
       "        vertical-align: top;\n",
       "    }\n",
       "\n",
       "    .dataframe thead th {\n",
       "        text-align: right;\n",
       "    }\n",
       "</style>\n",
       "<table border=\"1\" class=\"dataframe\">\n",
       "  <thead>\n",
       "    <tr style=\"text-align: right;\">\n",
       "      <th></th>\n",
       "      <th>2018 sales %</th>\n",
       "      <th>2019 sales %</th>\n",
       "      <th>2020 sales %</th>\n",
       "      <th>2021 sales %</th>\n",
       "    </tr>\n",
       "    <tr>\n",
       "      <th>month</th>\n",
       "      <th></th>\n",
       "      <th></th>\n",
       "      <th></th>\n",
       "      <th></th>\n",
       "    </tr>\n",
       "  </thead>\n",
       "  <tbody>\n",
       "    <tr>\n",
       "      <td>Jan</td>\n",
       "      <td>92.82</td>\n",
       "      <td>91.65</td>\n",
       "      <td>100.18</td>\n",
       "      <td>107.41</td>\n",
       "    </tr>\n",
       "    <tr>\n",
       "      <td>Feb</td>\n",
       "      <td>99.80</td>\n",
       "      <td>89.33</td>\n",
       "      <td>89.33</td>\n",
       "      <td>103.78</td>\n",
       "    </tr>\n",
       "    <tr>\n",
       "      <td>Mar</td>\n",
       "      <td>102.51</td>\n",
       "      <td>90.49</td>\n",
       "      <td>98.63</td>\n",
       "      <td>99.82</td>\n",
       "    </tr>\n",
       "    <tr>\n",
       "      <td>Apr</td>\n",
       "      <td>90.49</td>\n",
       "      <td>102.12</td>\n",
       "      <td>100.96</td>\n",
       "      <td>102.52</td>\n",
       "    </tr>\n",
       "    <tr>\n",
       "      <td>May</td>\n",
       "      <td>102.12</td>\n",
       "      <td>88.94</td>\n",
       "      <td>104.45</td>\n",
       "      <td>106.11</td>\n",
       "    </tr>\n",
       "    <tr>\n",
       "      <td>Jun</td>\n",
       "      <td>105.61</td>\n",
       "      <td>94.37</td>\n",
       "      <td>99.02</td>\n",
       "      <td>92.54</td>\n",
       "    </tr>\n",
       "    <tr>\n",
       "      <td>Jul</td>\n",
       "      <td>100.96</td>\n",
       "      <td>99.80</td>\n",
       "      <td>102.12</td>\n",
       "      <td>106.51</td>\n",
       "    </tr>\n",
       "    <tr>\n",
       "      <td>Aug</td>\n",
       "      <td>101.35</td>\n",
       "      <td>87.78</td>\n",
       "      <td>95.92</td>\n",
       "      <td>104.20</td>\n",
       "    </tr>\n",
       "    <tr>\n",
       "      <td>Sep</td>\n",
       "      <td>97.86</td>\n",
       "      <td>93.98</td>\n",
       "      <td>103.67</td>\n",
       "      <td>102.62</td>\n",
       "    </tr>\n",
       "    <tr>\n",
       "      <td>Oct</td>\n",
       "      <td>90.88</td>\n",
       "      <td>106.00</td>\n",
       "      <td>96.31</td>\n",
       "      <td>101.08</td>\n",
       "    </tr>\n",
       "    <tr>\n",
       "      <td>Nov</td>\n",
       "      <td>95.92</td>\n",
       "      <td>100.57</td>\n",
       "      <td>103.29</td>\n",
       "      <td>105.51</td>\n",
       "    </tr>\n",
       "    <tr>\n",
       "      <td>Dec</td>\n",
       "      <td>100.57</td>\n",
       "      <td>88.55</td>\n",
       "      <td>94.37</td>\n",
       "      <td>97.91</td>\n",
       "    </tr>\n",
       "  </tbody>\n",
       "</table>\n",
       "</div>"
      ],
      "text/plain": [
       "        2018 sales %   2019 sales %   2020 sales %  2021 sales %\n",
       "month                                                           \n",
       "Jan            92.82          91.65         100.18        107.41\n",
       "Feb            99.80          89.33          89.33        103.78\n",
       "Mar           102.51          90.49          98.63         99.82\n",
       "Apr            90.49         102.12         100.96        102.52\n",
       "May           102.12          88.94         104.45        106.11\n",
       "Jun           105.61          94.37          99.02         92.54\n",
       "Jul           100.96          99.80         102.12        106.51\n",
       "Aug           101.35          87.78          95.92        104.20\n",
       "Sep            97.86          93.98         103.67        102.62\n",
       "Oct            90.88         106.00          96.31        101.08\n",
       "Nov            95.92         100.57         103.29        105.51\n",
       "Dec           100.57          88.55          94.37         97.91"
      ]
     },
     "execution_count": 27,
     "metadata": {},
     "output_type": "execute_result"
    }
   ],
   "source": [
    "# Adding an extra column\n",
    "predictions = np.round(100 + (np.random.rand(12,1)-np.full((12,1),0.5))*15, 2)\n",
    "\n",
    "index_list = sales.index.values.tolist() #extract row names from the sales DataFrame\n",
    "\n",
    "# Create a new DataFrame with the same indices like before\n",
    "sales_2021 = pd.DataFrame(data = predictions, columns = ['2021 sales %'], index = index_list)\n",
    "\n",
    "# Merge these two DataFrames into one\n",
    "sales_updated = pd.concat([sales, sales_2021], axis = 1)\n",
    "\n",
    "sales_updated"
   ]
  },
  {
   "cell_type": "markdown",
   "metadata": {},
   "source": [
    "## 4. Matplotlib"
   ]
  },
  {
   "cell_type": "markdown",
   "metadata": {},
   "source": [
    "Matplotlib lets users create highly custimizable plots and plot templates that are easily reproducible. The images it renders are also of high quality, since it represents objects on a plot as mathematical objects, not as pixels (it works kind of like vector images). Actually, the figures generated in a lot of publications are used using Matplotlib.\n",
    "\n",
    "A number of plotting tools build on Matplotlib and trade costumizability against less verbose code. \n",
    "One of those is the Seaborn library, which will be covered in the **seaborn\\_tutorial.ipynb**. Seaborn is an \"extension\" to Matplotlib which is a easy to integrate with Pandas DataFrames.\n",
    "It is up to you however wether you want to use seaborn or matplotlib directly. "
   ]
  },
  {
   "cell_type": "code",
   "execution_count": 28,
   "metadata": {},
   "outputs": [
    {
     "data": {
      "image/png": "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\n",
      "text/plain": [
       "<Figure size 432x288 with 1 Axes>"
      ]
     },
     "metadata": {
      "needs_background": "light"
     },
     "output_type": "display_data"
    }
   ],
   "source": [
    "# Easy way to plot data\n",
    "\n",
    "# First a short Python functions recap\n",
    "def func(x):\n",
    "    \n",
    "    \"\"\"y = (x^3+2)/(x^3+6x^2-4x-4)\"\"\"\n",
    "    \n",
    "        \n",
    "    return (x**3+2)/(x**3+6*x**2-4*x-4)\n",
    "    \n",
    "x = np.linspace(-2,4,100) # Take 50 numbers between 1 and 10 as x\n",
    "y = func(x) # Calculate y\n",
    "\n",
    "# The plotting part\n",
    "plt.figure()\n",
    "\n",
    "plt.plot(x,y)\n",
    "plt.show()"
   ]
  },
  {
   "cell_type": "markdown",
   "metadata": {},
   "source": [
    "#### Side note: \n",
    "**This is a very convenient way to plot things quickly. Please do not use information-scarce plots like this one in your reports :)**"
   ]
  },
  {
   "cell_type": "code",
   "execution_count": 29,
   "metadata": {},
   "outputs": [
    {
     "data": {
      "image/png": "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\n",
      "text/plain": [
       "<Figure size 432x288 with 1 Axes>"
      ]
     },
     "metadata": {
      "needs_background": "light"
     },
     "output_type": "display_data"
    }
   ],
   "source": [
    "# Slightly prettier plot\n",
    "\n",
    "plt.figure()\n",
    "\n",
    "# Defining the plot title, x and y labels\n",
    "plt.title('A mathematical function')\n",
    "plt.xlabel('Values of x')\n",
    "plt.ylabel('Values of y')\n",
    "\n",
    "# Plots the curve, and displays the legend\n",
    "plt.plot(x, y, label = 'a curve', color = 'green') # here 'go-' stands for \"green line, round points and full line\"\n",
    "plt.legend()\n",
    "\n",
    "# Saving the figure as pdf and disolaying it in the notebook\n",
    "plt.savefig('simple_plot.pdf', dpi=300)\n",
    "plt.show()"
   ]
  },
  {
   "cell_type": "code",
   "execution_count": 30,
   "metadata": {},
   "outputs": [
    {
     "data": {
      "image/png": "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\n",
      "text/plain": [
       "<Figure size 1080x1080 with 4 Axes>"
      ]
     },
     "metadata": {
      "needs_background": "light"
     },
     "output_type": "display_data"
    }
   ],
   "source": [
    "# A more advanced way of plotting things\n",
    "data = np.random.randn(2, 100) # we generate a 2x100 matrix of random numbers from normal distribution\n",
    "\n",
    "# Here we define a grid of figures and the types of plots that we create\n",
    "fig, axs = plt.subplots(2, 2, figsize=(15, 15))\n",
    "\n",
    "axs[0, 0].hist(data[0]) # histogram plot - displays frequency of the data's first column\n",
    "axs[0, 0].grid(True) # adding a grid to the first plot\n",
    "\n",
    "axs[1, 0].scatter(data[0], data[1], color = \"#0B6E40\", s=100) # scatter plot where x and y values are elements of the two columns from data\n",
    "# We also changed the color of the points from the default blue to a color of choice, referring to its HEX code\n",
    "axs[1, 0].set_xlabel('Horizontal axis')\n",
    "axs[1, 0].set_ylabel('Vertical axis')\n",
    "\n",
    "# We can add an additional line to the plot\n",
    "col_a = np.linspace(-2,2,100)\n",
    "col_b = 2*np.cos(col_a*10)\n",
    "axs[1,0].plot(col_a, col_b, label = 'a random cos function', c='orange')\n",
    "axs[1,0].legend()\n",
    "\n",
    "axs[0, 1].plot(data[0], data[1], linestyle='dashed', marker='*', markersize=12) \n",
    "# Line plot of the same thing - lines connect consecutive points in x and y columns\n",
    "# Here connect the points with dashed lines\n",
    "axs[0, 1].title.set_text('This one even has a title!')\n",
    "\n",
    "axs[1, 1].hist2d(data[0], data[1], cmap = \"PiYG\") # 2D histogram with a custom color map\n",
    "\n",
    "\n",
    "plt.show()"
   ]
  },
  {
   "cell_type": "code",
   "execution_count": 31,
   "metadata": {},
   "outputs": [
    {
     "data": {
      "image/png": "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\n",
      "text/plain": [
       "<Figure size 432x288 with 1 Axes>"
      ]
     },
     "metadata": {
      "needs_background": "light"
     },
     "output_type": "display_data"
    }
   ],
   "source": [
    "# Using text boxes in figures\n",
    "# Including Greek letters, and mathematical formulas\n",
    "t = np.arange(0.0, 2.0, 0.01)\n",
    "s = np.sin(2*np.pi*t) # np contains trigonometry functions, as well\n",
    "\n",
    "plt.plot(t,s)\n",
    "plt.title(r'$\\alpha_i > \\beta_i$', fontsize=20)\n",
    "plt.text(1, -0.6, r'$\\sum_{i=0}^\\infty x_i$', fontsize=20)\n",
    "plt.text(0.6, 0.6, r'$A\\mathrm{sin}(2 \\omega t)$',\n",
    "         fontsize=20)\n",
    "plt.xlabel('time (s)')\n",
    "plt.ylabel('volts (mV)')\n",
    "plt.show()"
   ]
  },
  {
   "cell_type": "markdown",
   "metadata": {},
   "source": [
    "#### Questions to practice Python\n",
    "\n",
    "1) A 1.6285 L (V) flask contains 1.220 moles (n) of ideal gas at 273.0 K (T). Calculate the pressure (P) for the \n",
    "   above system by assigning all values to variables (e.g., V, n, R, and T) and performing\n",
    "   the mathematical operations on the variables.\n",
    "    \n",
    "2) Calculate the distance of point (23, 81) from the origin on an xy-plane first using the \n",
    "   math.hypot() function and then by the following distance equation.\n",
    "    \n",
    "3) Assign x = 12 and then increase the value by 32 without typing “x = 32”.\n",
    "\n",
    "4) Create the following variable elements = 'NaKBrClNOUP' and slice it to \n",
    "   obtain the following strings.\n",
    "   \n",
    "       a) NaK\n",
    "       b) UP\n",
    "       c) NKrlOP\n",
    "\n",
    "5) For DNA = 'ATTCGCCGCTTA', use Boolean logic to show that the DNA sequence \n",
    "   is a palindrome. Hint: this will require a Boolean \n",
    "   logic operator to evaluate as True.\n",
    "   \n",
    "   \n",
    "6) Create a list of even numbers from 18 → 88 including 88. Using list methods, \n",
    "   perform the following transformations in order on the same list (you may have to google the required methods):\n",
    "   \n",
    "       a) Reverse the list\n",
    "       b) Remove the last value (i.e., 18)\n",
    "       c) Append 16\n",
    "   \n",
    "   \n",
    "7) Create a tuple of even numbers from 18 → 320 including 320. \n",
    "\n",
    "8) Can you reverse, remove, or append values to the tuple?\n",
    "\n",
    "9) Write a Python script that prints out “PV = nRT” twenty times.\n",
    "\n",
    "10) The isotope 137Cs has a half-life of about 30.2 years. Using a while loop, determine \n",
    "    how many half-lives until a 500.0 g sample would have to decay until there is less \n",
    "    that 10.00 grams left. Create a counter (counter = 0) and add 1 to it each cycle of\n",
    "    the while loop to keep count\n",
    "    \n",
    "11) Complete a function calculating the Boltzmann distribtion P = exp(-E/kT) taking parameters E (energy) and T (temperature). Then, use this function to plot the distribution against energy for different temperatures T = 100 K, 200 K and 500 K.\n"
   ]
  },
  {
   "cell_type": "code",
   "execution_count": 32,
   "metadata": {},
   "outputs": [],
   "source": [
    "def boltzmann(E, T):\n",
    "    '''\n",
    "    Calculate the Boltzmann distribtion.\n",
    "    \n",
    "    Args:\n",
    "        E (float): Energy in kJ/mol.\n",
    "        T (float): Temperature in Kelvin.\n",
    "\n",
    "    Returns:\n",
    "        float: Boltzmann distribution.\n",
    "    '''\n",
    "    pass  # This keyword is just a placeholder and does nothing. You have to replace it with some nice code."
   ]
  },
  {
   "cell_type": "markdown",
   "metadata": {},
   "source": [
    "12) DNA is composed of two strands of the nucleotides adenine (A), thymine (T), \n",
    "    guanine (G), and cytosine (C). The two strands are lined up with adenine always \n",
    "    opposite of thymine and guanine opposite cytosine. For example, if one strand is \n",
    "    ATGGC, then the opposite strand is TACCG. Write a function that takes in a DNA \n",
    "    strand as a string and prints the opposite DNA strand of nucleotides.\n",
    "    \n",
    "13) create two random numpy arrays with shapes (5, 5) and perform a matrix multiplication and print the result. \n",
    "    You may have to find the functions you need in the Numpy documentation: https://numpy.org/"
   ]
  }
 ],
 "metadata": {
  "kernelspec": {
   "display_name": "Python 3 (ipykernel)",
   "language": "python",
   "name": "python3"
  },
  "language_info": {
   "codemirror_mode": {
    "name": "ipython",
    "version": 3
   },
   "file_extension": ".py",
   "mimetype": "text/x-python",
   "name": "python",
   "nbconvert_exporter": "python",
   "pygments_lexer": "ipython3",
   "version": "3.9.12"
  }
 },
 "nbformat": 4,
 "nbformat_minor": 4
}
